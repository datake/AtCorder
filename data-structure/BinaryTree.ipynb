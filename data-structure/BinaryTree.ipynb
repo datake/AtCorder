{
 "cells": [
  {
   "cell_type": "markdown",
   "metadata": {},
   "source": [
    "http://www.geocities.jp/m_hiroi/light/pyalgo03.html\n",
    "\n",
    "* Binary Search TreeはBinary Treeの中でも常に left < parent <right の関係にあるもの"
   ]
  },
  {
   "cell_type": "code",
   "execution_count": 8,
   "metadata": {
    "collapsed": true
   },
   "outputs": [],
   "source": [
    "class Node:\n",
    "    def __init__(self, x):\n",
    "        self.data  = x\n",
    "        self.left  = None\n",
    "        self.right = None"
   ]
  },
  {
   "cell_type": "code",
   "execution_count": 3,
   "metadata": {
    "collapsed": true
   },
   "outputs": [],
   "source": [
    "n=Node(5)"
   ]
  },
  {
   "cell_type": "code",
   "execution_count": 4,
   "metadata": {
    "collapsed": false
   },
   "outputs": [
    {
     "data": {
      "text/plain": [
       "5"
      ]
     },
     "execution_count": 4,
     "metadata": {},
     "output_type": "execute_result"
    }
   ],
   "source": [
    "n.data"
   ]
  },
  {
   "cell_type": "code",
   "execution_count": 14,
   "metadata": {
    "collapsed": true
   },
   "outputs": [],
   "source": [
    "def printTree(node):\n",
    "    if node == None:\n",
    "        return \"None\"\n",
    "    print(node.data)\n",
    "    printTree(node.left)\n",
    "    printTree(node.right)"
   ]
  },
  {
   "cell_type": "code",
   "execution_count": 12,
   "metadata": {
    "collapsed": false
   },
   "outputs": [],
   "source": [
    "# 引数 : node,追加する値\n",
    "# return : データを挿入した新しい木\n",
    "def insert(node, x):\n",
    "    if node == None:\n",
    "        return Node(x)\n",
    "    if node.data < x:\n",
    "        node.right = insert(node.right, x)\n",
    "    elif node.data > x:\n",
    "        node.left = insert(node.left, x)\n",
    "    # 同じ値だったら何もしない\n",
    "    return node"
   ]
  },
  {
   "cell_type": "code",
   "execution_count": 87,
   "metadata": {
    "collapsed": false
   },
   "outputs": [],
   "source": [
    "n = Node(10)\n",
    "n = insert(n,5)\n",
    "n = insert(n,15)\n",
    "n = insert(n,1)\n",
    "n = insert(n,2)\n",
    "n = insert(n,11)"
   ]
  },
  {
   "cell_type": "code",
   "execution_count": 37,
   "metadata": {
    "collapsed": false
   },
   "outputs": [],
   "source": [
    "# 最小値を探す\n",
    "def search_min(node):\n",
    "    if node.left == None:\n",
    "        return node.data\n",
    "    return search_min(node.left)"
   ]
  },
  {
   "cell_type": "code",
   "execution_count": 39,
   "metadata": {
    "collapsed": false
   },
   "outputs": [],
   "source": [
    "# 最小値を格納している節を削除\n",
    "def delete_min(node):\n",
    "    if node.left == None:\n",
    "        #    5\n",
    "        #   / \\\n",
    "        # None [6]\n",
    "        \n",
    "        #    5\n",
    "        #   / \\\n",
    "        # None [None]\n",
    "        return node.right\n",
    "    else:\n",
    "        #       7\n",
    "        #     /   \\\n",
    "        #    5\n",
    "        #   / \\\n",
    "        # None 6    \n",
    "        \n",
    "        # ↓\n",
    "        \n",
    "        #       7\n",
    "        #     /   \\\n",
    "        #    6\n",
    "        \n",
    "        node.left = delete_min(node.left)\n",
    "        return node"
   ]
  },
  {
   "cell_type": "code",
   "execution_count": 79,
   "metadata": {
    "collapsed": false
   },
   "outputs": [],
   "source": [
    "# 引数 : node,削除する\n",
    "# return : データを削除した新しい木\n",
    "def delete(node, x):\n",
    "    if node:\n",
    "        print(node.data)\n",
    "        if node.data == x:\n",
    "            # 削除すべきノードを発見\n",
    "            if node.left == None:\n",
    "                return node.right\n",
    "            elif node.right == None:\n",
    "                return node.left\n",
    "            else:\n",
    "            # 右グラフの最小値をdataにする\n",
    "                node.data = search_min(node.right) #最小値\n",
    "                node.right = delete_min(node.right)#最小値を削除\n",
    "        elif node.data < x:\n",
    "            # 右に消去すべき対象あり -> 消して突っ込む\n",
    "            node.right = delete(node.right, x)\n",
    "        elif node.data > x:\n",
    "            # 左に消去すべき対象あり -> 消して突っ込む\n",
    "            node.left = delete(node.left, x)\n",
    "    return node"
   ]
  },
  {
   "cell_type": "code",
   "execution_count": 88,
   "metadata": {
    "collapsed": false
   },
   "outputs": [
    {
     "name": "stdout",
     "output_type": "stream",
     "text": [
      "10\n",
      "5\n",
      "1\n",
      "2\n",
      "15\n",
      "11\n"
     ]
    }
   ],
   "source": [
    "printTree(n)"
   ]
  },
  {
   "cell_type": "code",
   "execution_count": 89,
   "metadata": {
    "collapsed": false
   },
   "outputs": [
    {
     "name": "stdout",
     "output_type": "stream",
     "text": [
      "10\n",
      "5\n",
      "1\n",
      "2\n"
     ]
    }
   ],
   "source": [
    "n2=delete(n, 2)"
   ]
  },
  {
   "cell_type": "code",
   "execution_count": 90,
   "metadata": {
    "collapsed": false
   },
   "outputs": [
    {
     "name": "stdout",
     "output_type": "stream",
     "text": [
      "10\n",
      "5\n",
      "1\n",
      "15\n",
      "11\n"
     ]
    }
   ],
   "source": [
    "printTree(n2)"
   ]
  },
  {
   "cell_type": "markdown",
   "metadata": {},
   "source": [
    "Binary treeがBinary search Treeかどうかをテスト\n",
    "\n",
    "https://stackoverflow.com/questions/6380231/difference-between-binary-tree-and-binary-search-tree"
   ]
  },
  {
   "cell_type": "markdown",
   "metadata": {},
   "source": [
    "<img src=\"img/BST.png\">"
   ]
  },
  {
   "cell_type": "code",
   "execution_count": null,
   "metadata": {
    "collapsed": true
   },
   "outputs": [],
   "source": []
  }
 ],
 "metadata": {
  "kernelspec": {
   "display_name": "Python [Root]",
   "language": "python",
   "name": "Python [Root]"
  },
  "language_info": {
   "codemirror_mode": {
    "name": "ipython",
    "version": 3
   },
   "file_extension": ".py",
   "mimetype": "text/x-python",
   "name": "python",
   "nbconvert_exporter": "python",
   "pygments_lexer": "ipython3",
   "version": "3.5.1"
  }
 },
 "nbformat": 4,
 "nbformat_minor": 0
}
