{
 "cells": [
  {
   "cell_type": "markdown",
   "metadata": {},
   "source": [
    "https://gist.github.com/ptigas/2820165"
   ]
  },
  {
   "cell_type": "code",
   "execution_count": 29,
   "metadata": {
    "collapsed": false
   },
   "outputs": [],
   "source": [
    "class Node:\n",
    "    def __init__(self, elem, prev = None, next = None):\n",
    "        self.elem = elem\n",
    "        self.prev = prev\n",
    "        self.next = next"
   ]
  },
  {
   "cell_type": "code",
   "execution_count": 46,
   "metadata": {
    "collapsed": false
   },
   "outputs": [],
   "source": [
    "class LinkedList:\n",
    "    def __init__(self):\n",
    "        self.head = None # 番兵を表す (リストの末尾)\n",
    "\n",
    "    def add(self, elem): # listの先頭に付け足す\n",
    "        node = Node(elem) # 追加する要素をもつノード\n",
    "        if self.head == None:\n",
    "            self.head = node\n",
    "        \n",
    "        else :\n",
    "            # (new node) -> (旧先頭node) -> (旧旧先頭ノード) -> … -> null\n",
    "            node.next = self.head \n",
    "            node.next.prev = node\n",
    "            self.head = node\n",
    "        \n",
    "    def search(self, elem):\n",
    "        p = self.head\n",
    "        if p != None:\n",
    "            while p.next != None:\n",
    "                if p.elem == elem:\n",
    "                    return p\n",
    "                else:\n",
    "                    p = p.next\n",
    "            if p.elem == elem:\n",
    "                    return p\n",
    "                \n",
    "        \n",
    "    def remove(self, elem):\n",
    "        p = self.head\n",
    "        if p != None:\n",
    "            while p.next != None:\n",
    "                if p.elem == elem:\n",
    "                    p.prev.next = p.next\n",
    "                else:\n",
    "                    p = p.next\n",
    "            if p.elem == elem:\n",
    "                    p.prev.next = None\n",
    "        \n",
    "    def __str__( self ) :\n",
    "        s = \"\"\n",
    "        p = self.head\n",
    "        if p != None :\n",
    "            while p.next != None :\n",
    "                s += p.elem\n",
    "                p = p.next\n",
    "            s += p.elem\n",
    "        return s\n",
    "        "
   ]
  },
  {
   "cell_type": "code",
   "execution_count": 40,
   "metadata": {
    "collapsed": false
   },
   "outputs": [
    {
     "data": {
      "text/plain": [
       "<__main__.Node at 0x10423a160>"
      ]
     },
     "execution_count": 40,
     "metadata": {},
     "output_type": "execute_result"
    }
   ],
   "source": [
    "Node(5)"
   ]
  },
  {
   "cell_type": "code",
   "execution_count": 47,
   "metadata": {
    "collapsed": false
   },
   "outputs": [
    {
     "name": "stdout",
     "output_type": "stream",
     "text": [
      "cba\n"
     ]
    }
   ],
   "source": [
    "# example code\n",
    "l = LinkedList()\n",
    "\n",
    "l.add( 'a' )\n",
    "l.add( 'b' )\n",
    "l.add( 'c' )\n",
    "\n",
    "print(l)"
   ]
  },
  {
   "cell_type": "code",
   "execution_count": 48,
   "metadata": {
    "collapsed": false
   },
   "outputs": [],
   "source": [
    "l.remove(\"a\")"
   ]
  },
  {
   "cell_type": "code",
   "execution_count": 49,
   "metadata": {
    "collapsed": false
   },
   "outputs": [
    {
     "name": "stdout",
     "output_type": "stream",
     "text": [
      "cb\n"
     ]
    }
   ],
   "source": [
    "print(l)"
   ]
  },
  {
   "cell_type": "code",
   "execution_count": null,
   "metadata": {
    "collapsed": true
   },
   "outputs": [],
   "source": []
  }
 ],
 "metadata": {
  "anaconda-cloud": {},
  "kernelspec": {
   "display_name": "Python [Root]",
   "language": "python",
   "name": "Python [Root]"
  },
  "language_info": {
   "codemirror_mode": {
    "name": "ipython",
    "version": 3
   },
   "file_extension": ".py",
   "mimetype": "text/x-python",
   "name": "python",
   "nbconvert_exporter": "python",
   "pygments_lexer": "ipython3",
   "version": "3.5.1"
  }
 },
 "nbformat": 4,
 "nbformat_minor": 0
}
